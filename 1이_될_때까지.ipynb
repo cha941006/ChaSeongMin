{
  "nbformat": 4,
  "nbformat_minor": 0,
  "metadata": {
    "colab": {
      "name": "1이 될 때까지",
      "provenance": [],
      "authorship_tag": "ABX9TyPP5Hz8yYYNpk67FMfyuqVw",
      "include_colab_link": true
    },
    "kernelspec": {
      "name": "python3",
      "display_name": "Python 3"
    }
  },
  "cells": [
    {
      "cell_type": "markdown",
      "metadata": {
        "id": "view-in-github",
        "colab_type": "text"
      },
      "source": [
        "<a href=\"https://colab.research.google.com/github/cha941006/ChaSeongMin/blob/master/1%EC%9D%B4_%EB%90%A0_%EB%95%8C%EA%B9%8C%EC%A7%80.ipynb\" target=\"_parent\"><img src=\"https://colab.research.google.com/assets/colab-badge.svg\" alt=\"Open In Colab\"/></a>"
      ]
    },
    {
      "cell_type": "markdown",
      "metadata": {
        "id": "gW5QHf4_CZQa"
      },
      "source": [
        "어떠한 수 N이 1이 될때까지 다음의 두 과정 중 하나를 반복적으로 선택하여 수행하려고 한다. 단, 두 번째 연산은 N이 K로 나누어떨어질 때만 선택할 수 있다\r\n",
        "\r\n",
        "\r\n",
        "1. N에서 1을 뺀다\r\n",
        "2. N을 K로 나눈다\r\n",
        "\r\n",
        "N이 1이 될 때까지의 1번 또는 2번을 수행하는 최소 횟수를 구하시오"
      ]
    },
    {
      "cell_type": "code",
      "metadata": {
        "colab": {
          "base_uri": "https://localhost:8080/"
        },
        "id": "X4SIJXwDCxBw",
        "outputId": "d2df4b0a-64c1-400e-e234-f7a89c514428"
      },
      "source": [
        "#n, k를 공백으로 구분하여 입력받음\r\n",
        "n, k = map(int, input().split())\r\n",
        "\r\n",
        "count = 0\r\n",
        "\r\n",
        "while n >= k:\r\n",
        "  if n % k == 0:\r\n",
        "    n = n // k\r\n",
        "    count += 1\r\n",
        "  else:\r\n",
        "    n -= 1\r\n",
        "    count += 1\r\n",
        "\r\n",
        "\r\n",
        "print(count)\r\n"
      ],
      "execution_count": 8,
      "outputs": [
        {
          "output_type": "stream",
          "text": [
            "27 3\n",
            "3\n"
          ],
          "name": "stdout"
        }
      ]
    },
    {
      "cell_type": "code",
      "metadata": {
        "colab": {
          "base_uri": "https://localhost:8080/"
        },
        "id": "4KYfJCj4Dvsj",
        "outputId": "4a20e7b2-e1b9-4fbf-cc2d-88ab060cf85f"
      },
      "source": [
        "25//5"
      ],
      "execution_count": 3,
      "outputs": [
        {
          "output_type": "execute_result",
          "data": {
            "text/plain": [
              "5"
            ]
          },
          "metadata": {
            "tags": []
          },
          "execution_count": 3
        }
      ]
    }
  ]
}