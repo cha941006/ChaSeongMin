{
  "nbformat": 4,
  "nbformat_minor": 0,
  "metadata": {
    "colab": {
      "name": "시각.ipynb",
      "provenance": [],
      "authorship_tag": "ABX9TyNkuefefztgq9E1rPRMnaeY",
      "include_colab_link": true
    },
    "kernelspec": {
      "name": "python3",
      "display_name": "Python 3"
    }
  },
  "cells": [
    {
      "cell_type": "markdown",
      "metadata": {
        "id": "view-in-github",
        "colab_type": "text"
      },
      "source": [
        "<a href=\"https://colab.research.google.com/github/cha941006/ChaSeongMin/blob/master/%EC%8B%9C%EA%B0%81.ipynb\" target=\"_parent\"><img src=\"https://colab.research.google.com/assets/colab-badge.svg\" alt=\"Open In Colab\"/></a>"
      ]
    },
    {
      "cell_type": "code",
      "metadata": {
        "colab": {
          "base_uri": "https://localhost:8080/"
        },
        "id": "JNpl7L1Dl_bB",
        "outputId": "d6175efa-484a-415a-ce9e-277b8f8ce867"
      },
      "source": [
        "n = int(input())\r\n",
        "\r\n",
        "\r\n",
        "count = 0\r\n",
        "\r\n",
        "for i in range(n+1):\r\n",
        "  for j in range(60):\r\n",
        "    for k in range(60):\r\n",
        "      if '3' in str(i) + str(j) + str(k):\r\n",
        "        count += 1\r\n",
        "\r\n",
        "print(count)\r\n"
      ],
      "execution_count": 9,
      "outputs": [
        {
          "output_type": "stream",
          "text": [
            "5\n",
            "11475\n"
          ],
          "name": "stdout"
        }
      ]
    }
  ]
}