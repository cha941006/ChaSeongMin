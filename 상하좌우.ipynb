{
  "nbformat": 4,
  "nbformat_minor": 0,
  "metadata": {
    "colab": {
      "name": "상하좌우.ipynb",
      "provenance": [],
      "authorship_tag": "ABX9TyORVQrrDn5A2CRcc5REUkT8",
      "include_colab_link": true
    },
    "kernelspec": {
      "name": "python3",
      "display_name": "Python 3"
    }
  },
  "cells": [
    {
      "cell_type": "markdown",
      "metadata": {
        "id": "view-in-github",
        "colab_type": "text"
      },
      "source": [
        "<a href=\"https://colab.research.google.com/github/cha941006/ChaSeongMin/blob/master/%EC%83%81%ED%95%98%EC%A2%8C%EC%9A%B0.ipynb\" target=\"_parent\"><img src=\"https://colab.research.google.com/assets/colab-badge.svg\" alt=\"Open In Colab\"/></a>"
      ]
    },
    {
      "cell_type": "markdown",
      "metadata": {
        "id": "GRrdFDXbieWB"
      },
      "source": [
        "L 왼쪽으로 이동\r\n",
        "R 오른쪽으로 이동\r\n",
        "U 위로 이동\r\n",
        "D 아래로 이동"
      ]
    },
    {
      "cell_type": "code",
      "metadata": {
        "colab": {
          "base_uri": "https://localhost:8080/"
        },
        "id": "QmLkIW9_imFM",
        "outputId": "9e7706a6-de94-4fc1-cbd4-a6546b7ef8bd"
      },
      "source": [
        "#입력 받기\r\n",
        "n= int(input())\r\n",
        "\r\n",
        "plan = input().split()\r\n",
        "\r\n",
        "x, y = 1, 1\r\n",
        "\r\n",
        "#L,R,U,D에 따른 이동\r\n",
        "dx=[0,0,-1,1]\r\n",
        "dy=[-1,1,0,0]\r\n",
        "\r\n",
        "move=[\"L\",\"R\",\"U\",\"D\"]\r\n",
        "\r\n",
        "for plan in plan:\r\n",
        "  for i in range(len(move)):\r\n",
        "    if plan == move[i]:\r\n",
        "      nx = x+dx[i]\r\n",
        "      ny = y+dy[i]\r\n",
        "  if nx < 1 or ny < 1 or nx > n or ny > n:\r\n",
        "    continue\r\n",
        "  x, y = nx, ny\r\n",
        "\r\n",
        "print(x,y)\r\n",
        "\r\n"
      ],
      "execution_count": 13,
      "outputs": [
        {
          "output_type": "stream",
          "text": [
            "5\n",
            "R R R U D D\n",
            "3 4\n"
          ],
          "name": "stdout"
        }
      ]
    }
  ]
}