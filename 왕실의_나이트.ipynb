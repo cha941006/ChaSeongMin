{
  "nbformat": 4,
  "nbformat_minor": 0,
  "metadata": {
    "colab": {
      "name": "왕실의 나이트.ipynb",
      "provenance": [],
      "authorship_tag": "ABX9TyPCTlMrGMYuXlQH+RoBNUq9",
      "include_colab_link": true
    },
    "kernelspec": {
      "name": "python3",
      "display_name": "Python 3"
    }
  },
  "cells": [
    {
      "cell_type": "markdown",
      "metadata": {
        "id": "view-in-github",
        "colab_type": "text"
      },
      "source": [
        "<a href=\"https://colab.research.google.com/github/cha941006/ChaSeongMin/blob/master/%EC%99%95%EC%8B%A4%EC%9D%98_%EB%82%98%EC%9D%B4%ED%8A%B8.ipynb\" target=\"_parent\"><img src=\"https://colab.research.google.com/assets/colab-badge.svg\" alt=\"Open In Colab\"/></a>"
      ]
    },
    {
      "cell_type": "code",
      "metadata": {
        "colab": {
          "base_uri": "https://localhost:8080/"
        },
        "id": "uNdXqjjH9oA0",
        "outputId": "c5a89202-8018-4757-d4d6-878804371df5"
      },
      "source": [
        "present = str(input())\r\n",
        "\r\n",
        "row = int(present[1])\r\n",
        "\r\n",
        "col = int(ord(present[0]))- int(ord('a')) + 1\r\n",
        "\r\n",
        "step = [(2,1),(2,-1),(-2,1),(-2,1),(1,2),(1,-2),(-1,2),(-1,-2)]\r\n",
        "\r\n",
        "count = 0\r\n",
        "\r\n",
        "for i in step:\r\n",
        "  next_row = row + i[0]\r\n",
        "  next_col = col + i[1]\r\n",
        "  if next_row >= 1 and next_col >= 1 and next_row <= 8 and next_col <= 8:\r\n",
        "    count += 1\r\n",
        "\r\n",
        "print(count)\r\n"
      ],
      "execution_count": 11,
      "outputs": [
        {
          "output_type": "stream",
          "text": [
            "a1\n",
            "2\n"
          ],
          "name": "stdout"
        }
      ]
    }
  ]
}