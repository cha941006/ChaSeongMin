{
  "nbformat": 4,
  "nbformat_minor": 0,
  "metadata": {
    "colab": {
      "name": "숫자카드게임",
      "provenance": [],
      "authorship_tag": "ABX9TyPeE4QSAlFboMhxjzzgYU2s",
      "include_colab_link": true
    },
    "kernelspec": {
      "name": "python3",
      "display_name": "Python 3"
    }
  },
  "cells": [
    {
      "cell_type": "markdown",
      "metadata": {
        "id": "view-in-github",
        "colab_type": "text"
      },
      "source": [
        "<a href=\"https://colab.research.google.com/github/cha941006/ChaSeongMin/blob/master/%EC%88%AB%EC%9E%90%EC%B9%B4%EB%93%9C%EA%B2%8C%EC%9E%84.ipynb\" target=\"_parent\"><img src=\"https://colab.research.google.com/assets/colab-badge.svg\" alt=\"Open In Colab\"/></a>"
      ]
    },
    {
      "cell_type": "markdown",
      "metadata": {
        "id": "gs4LX72y_5KX"
      },
      "source": [
        "여러 개의 숫자 카드 중 가장 높은 숫자 한 장 뽑는 게임\r\n",
        "\r\n",
        "룰\r\n",
        "1. 숫자가 쓰인 카드들이 N*M 형태로 놓여있다.\r\n",
        "2. 먼저 뽑고자 하는 카드가 있는 행을 선택한다\r\n",
        "3. 그다음 선택된 행에 포함된 카드들 중 가장 낮은 카드를 뽑아야 한다.\r\n",
        "4. 따라서 처음에 카드를 골라낼 행을 선택할 때, 이후에 해당 행에서 가장 낮은 카드를 뽑을 것을 코려하여 최종적으로 가장 높은 숫자의 카드를 뽑을 수 있도록 전략을 세워야함."
      ]
    },
    {
      "cell_type": "code",
      "metadata": {
        "colab": {
          "base_uri": "https://localhost:8080/"
        },
        "id": "WKpguwPk_2Qx",
        "outputId": "9ca8a02a-a543-46aa-ecce-2fa8232756cb"
      },
      "source": [
        "# n,m을 입력받음\r\n",
        "n, m = map(int, input().split())\r\n",
        "\r\n",
        "result = 0\r\n",
        "\r\n",
        "for i in range(n):\r\n",
        "  data = list(map(int,input().split()))\r\n",
        "  if result <= min(data):\r\n",
        "    result = min(data)\r\n",
        "\r\n",
        "print(result)\r\n"
      ],
      "execution_count": 4,
      "outputs": [
        {
          "output_type": "stream",
          "text": [
            "2 4\n",
            "3 3 3 4\n",
            "7 3 1 8\n",
            "3\n"
          ],
          "name": "stdout"
        }
      ]
    },
    {
      "cell_type": "markdown",
      "metadata": {
        "id": "e6uaZjDU_T-v"
      },
      "source": [
        ""
      ]
    }
  ]
}