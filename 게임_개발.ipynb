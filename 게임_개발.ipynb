{
  "nbformat": 4,
  "nbformat_minor": 0,
  "metadata": {
    "colab": {
      "name": "게임 개발.ipynb",
      "provenance": [],
      "authorship_tag": "ABX9TyN4EF2WUYrZIXhiLc0i7p7k",
      "include_colab_link": true
    },
    "kernelspec": {
      "name": "python3",
      "display_name": "Python 3"
    }
  },
  "cells": [
    {
      "cell_type": "markdown",
      "metadata": {
        "id": "view-in-github",
        "colab_type": "text"
      },
      "source": [
        "<a href=\"https://colab.research.google.com/github/cha941006/ChaSeongMin/blob/master/%EA%B2%8C%EC%9E%84_%EA%B0%9C%EB%B0%9C.ipynb\" target=\"_parent\"><img src=\"https://colab.research.google.com/assets/colab-badge.svg\" alt=\"Open In Colab\"/></a>"
      ]
    },
    {
      "cell_type": "code",
      "metadata": {
        "colab": {
          "base_uri": "https://localhost:8080/"
        },
        "id": "1QIQxvj9Cvbv",
        "outputId": "cd99b6d2-d9cd-4575-8485-f30c39f61521"
      },
      "source": [
        "n,m = map(int, input().split())\r\n",
        "\r\n",
        "x, y, direction = map(int, input().split())\r\n",
        "\r\n",
        "#방문 위치 저장하기 위한 맵을 생성하여 0으로 초기화\r\n",
        "d = [[0]*m for _ in range(n)]\r\n",
        "\r\n",
        "#시작값은 방문처리\r\n",
        "d[x][y] = 1\r\n",
        "\r\n",
        "#전체 맵 정보 입력받기\r\n",
        "array = []\r\n",
        "\r\n",
        "for i in range(n):\r\n",
        "  array.append(list(map(int,input().split())))\r\n",
        "\r\n",
        "#방향 정의\r\n",
        "dx = [-1,0,1,0]\r\n",
        "dy = [0,1,0,-1]\r\n",
        "\r\n",
        "#왼쪽으로 회전\r\n",
        "def turn_left():\r\n",
        "  global direction\r\n",
        "  direction -= 1\r\n",
        "  if direction == -1:\r\n",
        "    direction = 3\r\n",
        "\r\n",
        "\r\n",
        "#시뮬레이션 시작\r\n",
        "count = 1\r\n",
        "turn_time = 0\r\n",
        "\r\n",
        "while True:\r\n",
        "  #왼쪽으로 회전\r\n",
        "  turn_left()\r\n",
        "  nx = x + dx[direction]\r\n",
        "  ny = y + dy[direction]\r\n",
        "  if d[nx][ny] == 0 and array[nx][ny] == 0:\r\n",
        "    d[nx][ny] = 1\r\n",
        "    x = nx\r\n",
        "    y = ny\r\n",
        "    count += 1\r\n",
        "    turn_time = 0\r\n",
        "    continue\r\n",
        "  else:\r\n",
        "    turn_time += 1\r\n",
        "  if turn_time == 4 :\r\n",
        "    nx = x - dx[direction]\r\n",
        "    ny = y - dy[direction]\r\n",
        "    if array[nx][ny] == 0:\r\n",
        "      x = nx\r\n",
        "      y = ny\r\n",
        "    else:\r\n",
        "      break\r\n",
        "    turn_time = 0\r\n",
        "\r\n",
        "\r\n",
        "print(count)\r\n"
      ],
      "execution_count": 3,
      "outputs": [
        {
          "output_type": "stream",
          "text": [
            "4 4\n",
            "1 1 0\n",
            "1 1 1 1\n",
            "1 0 0 1\n",
            "1 1 0 1\n",
            "1 1 1 1\n",
            "3\n"
          ],
          "name": "stdout"
        }
      ]
    }
  ]
}