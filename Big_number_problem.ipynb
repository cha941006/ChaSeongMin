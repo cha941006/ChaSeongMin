{
  "nbformat": 4,
  "nbformat_minor": 0,
  "metadata": {
    "colab": {
      "name": "Big number problem.ipynb",
      "provenance": [],
      "authorship_tag": "ABX9TyNsotUYylxrakDhV487uXEq",
      "include_colab_link": true
    },
    "kernelspec": {
      "name": "python3",
      "display_name": "Python 3"
    }
  },
  "cells": [
    {
      "cell_type": "markdown",
      "metadata": {
        "id": "view-in-github",
        "colab_type": "text"
      },
      "source": [
        "<a href=\"https://colab.research.google.com/github/cha941006/ChaSeongMin/blob/master/Big_number_problem.ipynb\" target=\"_parent\"><img src=\"https://colab.research.google.com/assets/colab-badge.svg\" alt=\"Open In Colab\"/></a>"
      ]
    },
    {
      "cell_type": "markdown",
      "metadata": {
        "id": "JGoCi4VI6KMh"
      },
      "source": [
        "큰 수의 법칙\r\n",
        "\r\n",
        "입력조건\r\n",
        "\r\n",
        "-첫째 줄에 N(2<=N<=1000), M(1<=M<=10000),K(1<=K<=10000)의 자연수가 주어지며, 각 자연수는 공백으로 구분한다\r\n",
        "\r\n",
        "-둘째 줄에 N개의 자연수가 주어진다. 각 자연수는 공백으로 구분한다. 단, 각각의 자연수는 1이상 10000이하의 수로 가정한다\r\n",
        "\r\n",
        "-입력으로 주어지는 K는 항상 M보다 작거나 같다.\r\n",
        "\r\n",
        "\r\n",
        "출력조건\r\n",
        "\r\n",
        "-첫째 줄에 동빈이의 큰 수의 법칙에 따라 더해진 답을 출력한다"
      ]
    },
    {
      "cell_type": "code",
      "metadata": {
        "colab": {
          "base_uri": "https://localhost:8080/"
        },
        "id": "vtm9FtqB55_q",
        "outputId": "5985229b-0a27-40b6-e7c1-7c85a3b42a67"
      },
      "source": [
        "#n, m, k를 공백으로 입력받기\r\n",
        "n,m,k = map(int,input().split())\r\n",
        "#N개의 수를 공백으로 구분하여 입력받기\r\n",
        "data = list(map(int,input().split()))\r\n",
        "\r\n",
        "data.sort()#입력받은 수를 정렬\r\n",
        "first = data[n-1]\r\n",
        "second = data[n-2]\r\n",
        "\r\n",
        "result = 0\r\n",
        "\r\n",
        "while True:\r\n",
        "  for i in range(k):\r\n",
        "      if m == 0 :\r\n",
        "        break\r\n",
        "      result += first\r\n",
        "      m -= 1\r\n",
        "  if m == 0 : break\r\n",
        "  result += second\r\n",
        "  m -= 1\r\n",
        "\r\n",
        "print(result)\r\n",
        "\r\n",
        "  "
      ],
      "execution_count": null,
      "outputs": [
        {
          "output_type": "stream",
          "text": [
            "5 8 3\n",
            "2 4 5 4 6\n",
            "46\n"
          ],
          "name": "stdout"
        }
      ]
    },
    {
      "cell_type": "code",
      "metadata": {
        "colab": {
          "base_uri": "https://localhost:8080/"
        },
        "id": "Ba9C6iHu8G-F",
        "outputId": "7fa2fe84-e01a-496d-8b9d-12750abd583f"
      },
      "source": [
        "#n,m,k 공백으로 구분하여 입력받기\r\n",
        "n, m, k = map(int,input().split())\r\n",
        "#N개의 수를 공백으로 구분하여 입력받기\r\n",
        "data = list(map(int,input().split()))\r\n",
        "\r\n",
        "data.sort()\r\n",
        "first= data[n-1]\r\n",
        "second= data[n-2]\r\n",
        "\r\n",
        "#가장 큰 수가 더해지는 횟수\r\n",
        "count = int(m/(k+1))*k\r\n",
        "count += int(m % (k+1))\r\n",
        "\r\n",
        "result = 0\r\n",
        "result += count*first\r\n",
        "result += (m-count)*second\r\n",
        "\r\n",
        "print(result)"
      ],
      "execution_count": null,
      "outputs": [
        {
          "output_type": "stream",
          "text": [
            "5 8 3\n",
            "2 4 5 4 6\n",
            "46\n"
          ],
          "name": "stdout"
        }
      ]
    }
  ]
}